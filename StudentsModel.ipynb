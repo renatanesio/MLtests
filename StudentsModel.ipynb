{
 "cells": [
  {
   "cell_type": "code",
   "execution_count": 1,
   "metadata": {},
   "outputs": [],
   "source": [
    "import pandas as pd\n",
    "import numpy as np\n",
    "import sklearn\n",
    "from sklearn import linear_model\n",
    "from sklearn.utils import shuffle\n",
    "import matplotlib.pyplot as plt\n",
    "import pickle\n",
    "from matplotlib import style\n",
    "import seaborn as sns"
   ]
  },
  {
   "cell_type": "code",
   "execution_count": 2,
   "metadata": {},
   "outputs": [],
   "source": [
    "data = pd.read_csv(\"student-mat.csv\", sep = ';')\n",
    "# data acquired from UCI\n",
    "# https://archive.ics.uci.edu/ml/datasets/Student+Performance"
   ]
  },
  {
   "cell_type": "code",
   "execution_count": null,
   "metadata": {},
   "outputs": [],
   "source": []
  },
  {
   "cell_type": "code",
   "execution_count": null,
   "metadata": {},
   "outputs": [],
   "source": []
  },
  {
   "cell_type": "code",
   "execution_count": 3,
   "metadata": {},
   "outputs": [
    {
     "name": "stdout",
     "output_type": "stream",
     "text": [
      "   school  sex  age  address  famsize  Pstatus  Medu  Fedu  Mjob  Fjob  ...  \\\n",
      "0       1    2   18        1        2        2     4     4     4     1  ...   \n",
      "1       1    2   17        1        2        1     1     1     4     5  ...   \n",
      "2       1    2   15        1        1        1     1     1     4     5  ...   \n",
      "3       1    2   15        1        2        1     4     2     2     3  ...   \n",
      "4       1    2   16        1        2        1     3     3     5     5  ...   \n",
      "\n",
      "   famrel  freetime  goout  Dalc  Walc  health  absences  G1  G2  G3  \n",
      "0       4         3      4     1     1       3         6   5   6   6  \n",
      "1       5         3      3     1     1       3         4   5   5   6  \n",
      "2       4         3      2     2     3       3        10   7   8  10  \n",
      "3       3         2      2     1     1       5         2  15  14  15  \n",
      "4       4         3      2     1     2       5         4   6  10  10  \n",
      "\n",
      "[5 rows x 33 columns]\n"
     ]
    }
   ],
   "source": [
    "## Data treatment\n",
    "\n",
    "\n",
    "# school - student's school (binary: 'GP' - Gabriel Pereira or 'MS' - Mousinho da Silveira) \n",
    "school = {'GP': 1,'MS': 2} \n",
    "data.school = [school[item] for item in data.school] \n",
    "\n",
    "# student's sex (binary: 'F' - female or 'M' - male) \n",
    "sex = {'M': 1,'F': 2} \n",
    "data.sex = [sex[item] for item in data.sex] \n",
    "\n",
    "# student's home address type (binary: 'U' - urban or 'R' - rural) \n",
    "address = {'U': 1,'R': 2} \n",
    "data.address = [address[item] for item in data.address] \n",
    "\n",
    "# family size (binary: 'LE3' - less or equal to 3 or 'GT3' - greater than 3) \n",
    "famsize = {'LE3': 1,'GT3': 2} \n",
    "data.famsize = [famsize[item] for item in data.famsize] \n",
    "\n",
    "# parent's cohabitation status (binary: 'T' - living together or 'A' - apart) \n",
    "Pstatus = {'T': 1,'A': 2} \n",
    "data.Pstatus = [Pstatus[item] for item in data.Pstatus] \n",
    "\n",
    "# Mjob - mother's job (nominal: 'teacher', 'health' care related, civil 'services' (e.g. administrative or police), 'athome' or 'other')\n",
    "Mjob = {'teacher': 1,'health': 2, 'services': 3, 'at_home': 4, 'other': 5} \n",
    "data.Mjob = [Mjob[item] for item in data.Mjob] \n",
    "\n",
    "# Fjob - father's job (nominal: 'teacher', 'health' care related, civil 'services' (e.g. administrative or police), 'athome' or 'other') \n",
    "Fjob = {'teacher': 1,'health': 2, 'services': 3, 'at_home': 4, 'other': 5} \n",
    "data.Fjob = [Fjob[item] for item in data.Fjob] \n",
    "\n",
    "# reason - reason to choose this school (nominal: close to 'home', school 'reputation', 'course' preference or 'other') \n",
    "reason = {'home': 1,'reputation': 2, 'course': 3, 'other': 4} \n",
    "data.reason = [reason[item] for item in data.reason] \n",
    "\n",
    "# guardian - student's guardian (nominal: 'mother', 'father' or 'other') \n",
    "guardian = {'mother': 1,'father': 2, 'other': 3} \n",
    "data.guardian = [guardian[item] for item in data.guardian] \n",
    "\n",
    "# schoolsup - extra educational support (binary: yes or no) \n",
    "schoolsup = {'yes': 1,'no': 2} \n",
    "data.schoolsup = [schoolsup[item] for item in data.schoolsup] \n",
    "\n",
    "# famsup - family educational support (binary: yes or no) \n",
    "famsup = {'yes': 1,'no': 2} \n",
    "data.famsup = [famsup[item] for item in data.famsup] \n",
    "\n",
    "# paid - extra paid classes within the course subject (Math or Portuguese) (binary: yes or no) \n",
    "paid = {'yes': 1,'no': 2} \n",
    "data.paid = [paid[item] for item in data.paid] \n",
    "\n",
    "# activities - extra-curricular activities (binary: yes or no) \n",
    "activities = {'yes': 1,'no': 2} \n",
    "data.activities = [activities[item] for item in data.activities] \n",
    "\n",
    "# nursery - attended nursery school (binary: yes or no) \n",
    "nursery = {'yes': 1,'no': 2} \n",
    "data.nursery = [nursery[item] for item in data.nursery] \n",
    "\n",
    "# higher - wants to take higher education (binary: yes or no) \n",
    "higher = {'yes': 1,'no': 2} \n",
    "data.higher = [higher[item] for item in data.higher] \n",
    "\n",
    "# internet - Internet access at home (binary: yes or no) \n",
    "internet = {'yes': 1,'no': 2} \n",
    "data.internet = [internet[item] for item in data.internet] \n",
    "\n",
    "# romantic - with a romantic relationship (binary: yes or no)\n",
    "romantic = {'yes': 1,'no': 2} \n",
    "data.romantic = [romantic[item] for item in data.romantic] \n",
    "\n",
    "print(data.head())"
   ]
  },
  {
   "cell_type": "code",
   "execution_count": 4,
   "metadata": {},
   "outputs": [
    {
     "name": "stdout",
     "output_type": "stream",
     "text": [
      "\n",
      "Coefficients:  [ 0.43187785 -0.2191828  -0.1853795  -0.01291673 -0.20132427  0.00276981\n",
      "  0.1632205  -0.13663435  0.05416232  0.01497939  0.12130147 -0.13665494\n",
      "  0.09375559 -0.10680771 -0.13581383 -0.56215135 -0.20206613 -0.20265745\n",
      "  0.3757551   0.14863244 -0.16820388  0.21937923  0.31126759  0.36186276\n",
      "  0.07569276  0.04706335 -0.20146845  0.15046711  0.06162743  0.05166382\n",
      "  0.20014793  0.96611314]\n",
      "\n",
      "Intercept:  -1.2064200982013986 \n",
      "\n",
      "5.0943842373383985 5\n",
      "11.985374554103801 13\n",
      "11.844543607471069 13\n",
      "16.58862341327106 15\n",
      "7.572801585436672 9\n",
      "9.378075044162827 11\n",
      "13.58968477494371 12\n",
      "1.8872908473638734 0\n",
      "15.550761633330083 16\n",
      "14.367605480133744 15\n",
      "13.789087299353216 14\n",
      "14.102290640335266 15\n",
      "9.72944196277263 9\n",
      "13.432253113733994 14\n",
      "8.055110590319718 11\n",
      "13.069024845355296 13\n",
      "5.622133083971285 0\n",
      "12.511207105557986 14\n",
      "16.943127633535735 16\n",
      "6.293862036530307 0\n",
      "-1.7250263186346995 0\n",
      "12.944134333547789 11\n",
      "14.763794274638986 15\n",
      "7.87595613821777 10\n",
      "15.158085873318345 16\n",
      "12.4542488709294 12\n",
      "11.676573300632242 11\n",
      "-2.2703602633691338 0\n",
      "13.060616241730791 14\n",
      "10.628964233711171 10\n",
      "10.642218778891818 10\n",
      "2.810342129670639 0\n",
      "12.39247741688937 12\n",
      "12.07231480687156 11\n",
      "5.981788528122443 8\n",
      "7.3570187484472065 9\n",
      "8.38356794075261 11\n",
      "7.20132309176325 8\n",
      "12.337880369738528 14\n",
      "9.050605148144967 12\n"
     ]
    }
   ],
   "source": [
    "predict = \"G3\"\n",
    "\n",
    "X = np.array(data.drop([predict],1))\n",
    "y = np.array(data[predict])\n",
    "x_train, x_test, y_train, y_test = sklearn.model_selection.train_test_split(X, y, test_size = 0.1)\n",
    "\n",
    "best = 0\n",
    "\n",
    "\n",
    "'''\n",
    "for i in range(300):\n",
    "\n",
    "    x_train, x_test, y_train, y_test = sklearn.model_selection.train_test_split(X, y, test_size = 0.1)\n",
    "\n",
    "    linear = linear_model.LinearRegression()\n",
    "\n",
    "    linear.fit(x_train, y_train)\n",
    "\n",
    "    accuracy = linear.score(x_test, y_test)\n",
    "\n",
    "    print(\"Accuracy: \", accuracy)\n",
    "\n",
    "    if accuracy > best:\n",
    "        best = accuracy\n",
    "        \n",
    "        #save pickle file\n",
    "        with open(\"StudentModel.pickle\", 'wb') as f:\n",
    "            pickle.dump(linear, f)'''\n",
    "\n",
    "            \n",
    "# print(\"Best accuracy: \", best)\n",
    "            \n",
    "pickle_in = open(\"StudentModel.pickle\", \"rb\")\n",
    "linear = pickle.load(pickle_in)\n",
    "\n",
    "print(\"\\nCoefficients: \", linear.coef_)\n",
    "print(\"\\nIntercept: \", linear.intercept_, \"\\n\")\n",
    "\n",
    "predictions = linear.predict(x_test)\n",
    "\n",
    "for i in range(len(predictions)):\n",
    "    print(predictions[i], y_test[i])\n"
   ]
  },
  {
   "cell_type": "code",
   "execution_count": 5,
   "metadata": {},
   "outputs": [
    {
     "data": {
      "image/png": "[encoded data removed]",
      "text/plain": [
       "<Figure size 432x288 with 1 Axes>"
      ]
     },
     "metadata": {
      "needs_background": "light"
     },
     "output_type": "display_data"
    }
   ],
   "source": [
    "p = 'absences'\n",
    "\n",
    "sns.scatterplot(x = p, y = \"G3\", data=data)\n",
    "sns.set(style='darkgrid',)\n",
    "plt.show()"
   ]
  },
  {
   "cell_type": "code",
   "execution_count": null,
   "metadata": {},
   "outputs": [],
   "source": []
  }
 ],
 "metadata": {
  "kernelspec": {
   "display_name": "Python 3",
   "language": "python",
   "name": "python3"
  },
  "language_info": {
   "codemirror_mode": {
    "name": "ipython",
    "version": 3
   },
   "file_extension": ".py",
   "mimetype": "text/x-python",
   "name": "python",
   "nbconvert_exporter": "python",
   "pygments_lexer": "ipython3",
   "version": "3.8.3"
  }
 },
 "nbformat": 4,
 "nbformat_minor": 4
}
